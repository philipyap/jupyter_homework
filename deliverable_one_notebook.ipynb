{
 "cells": [
  {
   "cell_type": "code",
   "execution_count": 1,
   "metadata": {},
   "outputs": [],
   "source": [
    "num = [3, 78, 23, 466, 324, 2, 12, 546, 17, 546, 17, 56, 23, 123, 343, 87, 94, 45, 6, 9, 234, 36]"
   ]
  },
  {
   "cell_type": "code",
   "execution_count": 7,
   "metadata": {},
   "outputs": [],
   "source": [
    "def bubble_sort(ls):\n",
    "    n = len(ls)\n",
    "    for i in range(n):\n",
    "        for j in range(0, n-i-1):\n",
    "            if ls[j] > ls[j+1]:\n",
    "                ls[j], ls[j+1] = ls[j+1], ls[j]\n",
    "    print('sorted list: ')\n",
    "    print(ls)\n",
    "    return ls"
   ]
  },
  {
   "cell_type": "code",
   "execution_count": 8,
   "metadata": {},
   "outputs": [
    {
     "name": "stdout",
     "output_type": "stream",
     "text": [
      "[2, 3, 6, 9, 12, 17, 17, 23, 23, 36, 45, 56, 78, 87, 94, 123, 234, 324, 343, 466, 546, 546]\n"
     ]
    }
   ],
   "source": [
    "def bubble_sort2(ls):\n",
    "    for i in range(len(ls)):\n",
    "        for j in range(len(ls)-i-1):\n",
    "            if ls[j] > ls[j+1]:\n",
    "                ls[j], ls[j+1] = ls[j+1], ls[j]\n",
    "                swapped = True\n",
    "        if not swapped: break\n",
    "    return ls\n",
    "print(bubble_sort2(num))"
   ]
  },
  {
   "cell_type": "code",
   "execution_count": null,
   "metadata": {},
   "outputs": [],
   "source": []
  }
 ],
 "metadata": {
  "kernelspec": {
   "display_name": "Python 3",
   "language": "python",
   "name": "python3"
  },
  "language_info": {
   "codemirror_mode": {
    "name": "ipython",
    "version": 3
   },
   "file_extension": ".py",
   "mimetype": "text/x-python",
   "name": "python",
   "nbconvert_exporter": "python",
   "pygments_lexer": "ipython3",
   "version": "3.8.5"
  }
 },
 "nbformat": 4,
 "nbformat_minor": 4
}
